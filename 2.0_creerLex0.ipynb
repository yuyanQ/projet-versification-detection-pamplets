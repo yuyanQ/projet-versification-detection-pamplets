{
 "cells": [
  {
   "cell_type": "code",
   "execution_count": 1,
   "metadata": {},
   "outputs": [],
   "source": [
    "import json\n",
    "import re\n",
    "\n",
    "\n",
    "json_file = './phon_glaff_5818.json' \n",
    "with open(json_file, 'r', encoding='utf-8') as file:\n",
    "    data = json.load(file)\n",
    "result = {}\n",
    "\n",
    "accents_mapping = {\n",
    "    'à': 'A2',\n",
    "    'À': 'A2',\n",
    "    'â': 'A3',\n",
    "    'Â': 'A3',\n",
    "    'ä': 'A4',\n",
    "    'Ä': 'A4',\n",
    "    'é': 'E1',\n",
    "    'É': 'E1',\n",
    "    'è': 'E2',\n",
    "    'È': 'E2',\n",
    "    'ê': 'E3',\n",
    "    'Ê': 'E3',\n",
    "    'ë': 'E4',\n",
    "    'Ë': 'E4',\n",
    "    'î': 'I3',\n",
    "    'Î': 'I3',\n",
    "    'ï': 'I4',\n",
    "    'Ï': 'I4',\n",
    "    'ô': 'O3',\n",
    "    'Ô': 'O3',\n",
    "    'ö': 'O4',\n",
    "    'Ö': 'O4',\n",
    "    'ç': 'C5',\n",
    "    'Ç': 'C5',\n",
    "    'ù': 'U2',\n",
    "    'Ù': 'U2',\n",
    "    'û': 'U3',\n",
    "    'Û': 'U3',\n",
    "    'ü': 'U4',\n",
    "    'Ü': 'U4',\n",
    "    '.': '',\n",
    "    'œ': 'OE',\n",
    "    \"Œ\": \"OE\",\n",
    "    \"æ\": \"AE\",\n",
    "    \"Æ\": \"AE\",\n",
    "}\n",
    "\n",
    "for mot, phonemes in data.items():\n",
    "    phonemes_convertis = []\n",
    "    mot_converti = []\n",
    "    for char in mot:\n",
    "        if char in accents_mapping:\n",
    "            mot_converti.append(accents_mapping[char])\n",
    "        elif char.isalpha():\n",
    "            mot_converti.append(char.upper())\n",
    "\n",
    "    if \";\" in phonemes:\n",
    "        phonemes = phonemes.split(\";\")[0]\n",
    "    \n",
    "    for i in range(0,len(phonemes)):\n",
    "        pho =phonemes[i]\n",
    "        if pho == '.':\n",
    "            pass\n",
    "        elif i < len(phonemes)-1 and phonemes[i+1] == '~':\n",
    "            nasal = []\n",
    "            nasal.append(pho)\n",
    "            nasal.append(phonemes[i+1])\n",
    "            phonemes_convertis.append(''.join(nasal))\n",
    "        elif  pho.isalpha() or pho == \"@\" or pho == \"2\" or pho == \"9\":\n",
    "            phonemes_convertis.append(pho)\n",
    "    \n",
    "    mot_converti = ''.join(mot_converti) \n",
    "    if phonemes_convertis != []:\n",
    "        phonemes_convertis = ' '.join(phonemes_convertis)\n",
    "        result[mot_converti] = phonemes_convertis\n",
    "\n",
    "#for mot, phonemes in result.items():\n",
    "#    print(f'{mot} {phonemes}')"
   ]
  },
  {
   "cell_type": "code",
   "execution_count": 2,
   "metadata": {},
   "outputs": [
    {
     "name": "stdout",
     "output_type": "stream",
     "text": [
      "Fini ./Lenzo/lex0.txt\n"
     ]
    }
   ],
   "source": [
    "output_txt_file = './Lenzo/lex0.txt'\n",
    "\n",
    "with open(output_txt_file, 'w', encoding='utf-8') as file:\n",
    "    for mot, pho in result.items():\n",
    "        file.write(mot + \" \"+ pho +\"\\n\")\n",
    "print(f'Fini {output_txt_file}')"
   ]
  }
 ],
 "metadata": {
  "kernelspec": {
   "display_name": "Python 3",
   "language": "python",
   "name": "python3"
  },
  "language_info": {
   "codemirror_mode": {
    "name": "ipython",
    "version": 3
   },
   "file_extension": ".py",
   "mimetype": "text/x-python",
   "name": "python",
   "nbconvert_exporter": "python",
   "pygments_lexer": "ipython3",
   "version": "3.9.6"
  }
 },
 "nbformat": 4,
 "nbformat_minor": 2
}
