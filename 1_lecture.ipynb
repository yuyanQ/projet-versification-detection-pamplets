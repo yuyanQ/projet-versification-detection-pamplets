{
 "cells": [
  {
   "cell_type": "code",
   "execution_count": 19,
   "metadata": {},
   "outputs": [],
   "source": [
    "import json\n",
    "import os\n",
    "import glob\n",
    "import re\n",
    "import matplotlib.pyplot as plt\n",
    "import pandas as pd\n",
    "from bs4 import BeautifulSoup\n",
    "Mazarinade_path = \"Corpus-main/Mazarinades\"  \n",
    "Mazarinade_path_json = \"Corpus-main/Mazarinades_jsons/\"\n"
   ]
  },
  {
   "cell_type": "markdown",
   "metadata": {},
   "source": [
    "## 1er étape : annotation des vers et proses - coexistance dans un seul text (test1-100)\n",
    "- read(), c‘est pas un bon méthode de lire les fichiers xml parce que les balises (les annotations) vont perturber l'analyse de texte"
   ]
  },
  {
   "cell_type": "code",
   "execution_count": 3,
   "metadata": {},
   "outputs": [],
   "source": [
    "def lire_xml(chemin_fichier):\n",
    "    Nf=0\n",
    "    type = {}\n",
    "    type.setdefault(\"vers\",[])\n",
    "    type.setdefault(\"prose\",[])\n",
    "    for fichier in glob.glob(chemin_fichier+\"/*.xml\"):\n",
    "        Nf+=1\n",
    "        with open(fichier, 'r') as f:\n",
    "            f = f.read()\n",
    "            #ProseVers = re.search('<term type=\"form\">vers</term>', f)\n",
    "            fichierNom = fichier.split('/')[-1].split('_')[0]\n",
    "            if re.search('<term type=\"form\">vers</term>', f):\n",
    "                type[\"vers\"].append(fichierNom)\n",
    "                #print(fichierNom)\n",
    "            if re.search('<term type=\"form\">prose</term>', f):\n",
    "                type[\"prose\"].append(fichierNom)\n",
    "    return type, Nf\n"
   ]
  },
  {
   "cell_type": "code",
   "execution_count": 4,
   "metadata": {},
   "outputs": [
    {
     "name": "stdout",
     "output_type": "stream",
     "text": [
      "Nb des Textes dans le dossier 1-100:  64\n",
      "Nb des Textes contiennent le Vers :  24\n",
      "Nb des Textes contiennent le Prose :  44\n",
      "Textes contiennent le Vers et la Prose en même temps :  {'Moreau19', 'Moreau17', 'Moreau3', 'Moreau90'}\n"
     ]
    }
   ],
   "source": [
    "test100, Nfichier=lire_xml(\"Corpus-main/Mazarinades/1-100\")\n",
    "print(\"Nb des Textes dans le dossier 1-100: \", Nfichier)\n",
    "print(\"Nb des Textes contiennent le Vers : \", len(test100[\"vers\"]))\n",
    "print(\"Nb des Textes contiennent le Prose : \", len(test100[\"prose\"]))\n",
    "print(\"Textes contiennent le Vers et la Prose en même temps : \", set(test100[\"vers\"]).intersection(set(test100[\"prose\"])))"
   ]
  },
  {
   "cell_type": "markdown",
   "metadata": {},
   "source": [
    "## 2ère étape : aller voir le corpus, xml et json\n",
    "### parser l'arbre de XML et lire Json - comparer les deux méthodes\n",
    "-  Moreau3860 n'existe pas dans le dossier de XML\n",
    "\n",
    "```<term type=\"form\">prose</term> <term type=\"form\">manifeste</term> ```"
   ]
  },
  {
   "cell_type": "code",
   "execution_count": 201,
   "metadata": {},
   "outputs": [],
   "source": [
    "def trouver_structure_xml(fichier_chemin):\n",
    "    NfichiersTotal=0\n",
    "    NT=0\n",
    "    results = {}\n",
    "    results.setdefault(\"vers\",[])\n",
    "    results.setdefault(\"prose\",[])\n",
    "    for file_path in glob.glob(fichier_chemin+\"/*\"):\n",
    "        NT+=1 # compter les dossiers des textes\n",
    "        for fichier in glob.glob(file_path+\"/*.xml\"):\n",
    "            # compter les fichiers des textes\n",
    "            NfichiersTotal+=1\n",
    "            with open(fichier, 'r') as f:\n",
    "                soup = BeautifulSoup(f, \"xml\")\n",
    "\n",
    "                # n'utiliser que les chemins relatifs des fichiers sans extension \n",
    "                fichierNom = fichier.split('/')[-2]+\"/\"+fichier.split('/')[-1].split('.')[0]\n",
    "                # structure du fichier xml\n",
    "                terms = [noeud.text for noeud in soup.teiHeader.profileDesc.textClass.keywords.find_all('term', type='form')]\n",
    "                 #[<term type=\"form\">vers</term>, <term type=\"form\">prose</term>]\n",
    "                if 'vers' in terms:\n",
    "                    results['vers'].append(fichierNom)\n",
    "                if 'prose' in terms:\n",
    "                    results['prose'].append(fichierNom)\n",
    "    return  results, NfichiersTotal"
   ]
  },
  {
   "cell_type": "code",
   "execution_count": 202,
   "metadata": {},
   "outputs": [],
   "source": [
    "corpusTotal, NfichierTotal = trouver_structure_xml(Mazarinade_path) \n",
    "# parser en arbre prend du temps, 48 secondes sur mon PC "
   ]
  },
  {
   "cell_type": "code",
   "execution_count": 203,
   "metadata": {},
   "outputs": [
    {
     "name": "stdout",
     "output_type": "stream",
     "text": [
      "Nb des Textes dans le dossier Mazarinades :  3064\n",
      "Types des textes :  dict_keys(['vers', 'prose'])\n",
      "Nb des Textes - Vers :  727\n",
      "Nb des Textes - Proses :  2467\n",
      "Nb des Textes contenant le Vers et la Prose en même temps :  130\n"
     ]
    }
   ],
   "source": [
    "print(\"Nb des Textes dans le dossier Mazarinades : \", NfichierTotal)\n",
    "print(\"Types des textes : \", corpusTotal.keys())\n",
    "print(\"Nb des Textes - Vers : \",len(corpusTotal[\"vers\"]))\n",
    "print(\"Nb des Textes - Proses : \",len(corpusTotal[\"prose\"]))\n",
    "print(\"Nb des Textes contenant le Vers et la Prose en même temps : \", len(set(corpusTotal[\"vers\"]).intersection(set(corpusTotal[\"prose\"]))))\n",
    "#print(\"Proportion des textes en Vers : \", len(corpusTotal[\"vers\"])/NfichierTotal)"
   ]
  },
  {
   "cell_type": "code",
   "execution_count": 11,
   "metadata": {},
   "outputs": [],
   "source": [
    "def lire_json(chemin_fichier):\n",
    "    Nf =  0\n",
    "    Nd = 0\n",
    "    \n",
    "    type = {}\n",
    "    type.setdefault(\"vers\",[])\n",
    "    type.setdefault(\"prose\",[])\n",
    "    type.setdefault(\"mix\",[])\n",
    "\n",
    "    for dossier in glob.glob(chemin_fichier+\"/*\"):\n",
    "        Nd+=1\n",
    "        for fichier in glob.glob(dossier+\"/*.json\"):\n",
    "            \n",
    "            with open(fichier, 'r') as f:\n",
    "                f = json.load(f)\n",
    "                forms = f['entête'][\"form\"]\n",
    "                Nf+=1\n",
    "                fichierNom = fichier.split('/')[-2]+\"/\"+fichier.split('/')[-1].split('.')[0]\n",
    "                \"\"\"if 'vers' in forms:\n",
    "                        type[\"vers\"].append(fichierNom)\n",
    "                if 'prose' in forms:\n",
    "                         type[\"prose\"].append(fichierNom)\"\"\" \n",
    "                if forms == \"vers\":\n",
    "                    type[\"vers\"].append(fichierNom)\n",
    "                elif forms == \"prose\":\n",
    "                    type[\"prose\"].append(fichierNom)\n",
    "                elif forms == [\"vers\",\"prose\"] or forms == [\"prose\",\"vers\"]:\n",
    "                    type[\"mix\"].append(fichierNom)\n",
    "                else: \n",
    "                    print(fichierNom, forms)\n",
    "    return type, Nf\n"
   ]
  },
  {
   "cell_type": "code",
   "execution_count": 12,
   "metadata": {},
   "outputs": [
    {
     "name": "stdout",
     "output_type": "stream",
     "text": [
      "3901-4000/Moreau3950_GBOOKS ['prose', 'récit']\n",
      "2401-2500/Moreau2404_MAZ ['prose', 'manifeste']\n",
      "Nb des Textes json dans le dossier Mazarinades :  3065\n",
      "Types des textes json :  dict_keys(['vers', 'prose', 'mix'])\n",
      "Nb des Textes json - Vers :  598\n",
      "Nb des Textes json - Proses :  2335\n",
      "Nb des Textes json contenant le Vers et la Prose en même temps :  130\n"
     ]
    }
   ],
   "source": [
    "Mazarinade_json_path = \"Corpus-main/Mazarinades_jsons\"  \n",
    "corpusTotalJson, NfichierTotalJson= lire_json(Mazarinade_json_path) \n",
    "print(\"Nb des Textes json dans le dossier Mazarinades : \", NfichierTotalJson)\n",
    "print(\"Types des textes json : \", corpusTotalJson.keys())\n",
    "print(\"Nb des Textes json - Vers : \",len(corpusTotalJson[\"vers\"]))#len(corpusTotalJson[\"vers\"]))\n",
    "print(\"Nb des Textes json - Proses : \",len(corpusTotalJson[\"prose\"]))\n",
    "#print(\"Nb des Textes json contenant le Vers et la Prose en même temps : \", len(set(corpusTotalJson[\"vers\"]).intersection(set(corpusTotalJson[\"prose\"]))))\n",
    "print(\"Nb des Textes json contenant le Vers et la Prose en même temps : \", len(corpusTotalJson[\"mix\"]))\n"
   ]
  },
  {
   "cell_type": "code",
   "execution_count": 208,
   "metadata": {},
   "outputs": [
    {
     "name": "stdout",
     "output_type": "stream",
     "text": [
      "Manque du Texte dans le dossier 'Mazarinades' :  {'3801-3900/Moreau3860_GALL'}\n"
     ]
    }
   ],
   "source": [
    "print(\"Manque du Texte dans le dossier 'Mazarinades' : \", set(corpusTotalJson[\"vers\"]).difference(set(corpusTotal[\"vers\"])))\n"
   ]
  },
  {
   "cell_type": "markdown",
   "metadata": {},
   "source": [
    "        \"change\": [\n",
    "            {\n",
    "                \"@status\": \"corrected\",\n",
    "                \"@when\": \"2022-07-15\",\n",
    "                \"@who\": \"AB\"\n",
    "            },\n",
    "            {\n",
    "                \"@status\": \"corrected\",\n",
    "                \"@when\": \"2022-08-04\",\n",
    "                \"@who\": \"MF\"\n",
    "            }\n",
    "        ],"
   ]
  },
  {
   "cell_type": "markdown",
   "metadata": {},
   "source": [
    "## Lecture des fichiers json"
   ]
  },
  {
   "cell_type": "code",
   "execution_count": 9,
   "metadata": {},
   "outputs": [
    {
     "name": "stdout",
     "output_type": "stream",
     "text": [
      "Nb des Textes json - Corrector :  87\n",
      "Nb des Textes json - Non Corrector :  2978\n"
     ]
    }
   ],
   "source": [
    "def lire_json_corrector(chemin_fichier):\n",
    "    resulC = {}\n",
    "    resulC.setdefault(\"C\",[])\n",
    "    resulC.setdefault(\"NC\",[])\n",
    "\n",
    "    for dossier in glob.glob(chemin_fichier+\"/*\"):\n",
    "        for fichier in glob.glob(dossier+\"/*.json\"):\n",
    "            with open(fichier, 'r') as f:\n",
    "                f = json.load(f)\n",
    "                C =  f[\"corrector\"]\n",
    "                fichierNom = fichier.split('/')[-2]+\"/\"+fichier.split('/')[-1].split('.')[0]\n",
    "                #try:\n",
    "                    #f['entête']['change']['@status']\n",
    "                #except:\n",
    "                    #pass\n",
    "                    #C =  f['entête']['change'][0]['@status']\n",
    "                if C :\n",
    "                     resulC[\"C\"].append(fichierNom)\n",
    "                else:\n",
    "                    resulC[\"NC\"].append(fichierNom)\n",
    "    return resulC\n",
    "CNC = lire_json_corrector(Mazarinade_json_path)\n",
    "print(\"Nb des Textes json - Corrector : \",len(CNC[\"C\"]))\n",
    "print(\"Nb des Textes json - Non Corrector : \",len(CNC[\"NC\"]))\n",
    "\n"
   ]
  },
  {
   "cell_type": "code",
   "execution_count": null,
   "metadata": {},
   "outputs": [
    {
     "name": "stdout",
     "output_type": "stream",
     "text": [
      "Bibliotheque_Mazarine/BM48896_MAZ\n"
     ]
    }
   ],
   "source": [
    "fichier = \"Corpus-main/Mazarinades_jsons/Bibliotheque_Mazarine/BM48896_MAZ.json\"\n",
    "fichierNom = fichier.split('/')[-2]+\"/\"+fichier.split('/')[-1].split('.')[0]#fichierNom = (\"/\").join((fichier.split('/')[-2:]))\n",
    "print(fichierNom)"
   ]
  },
  {
   "cell_type": "markdown",
   "metadata": {},
   "source": [
    "## 3ème étape : sauvegarder les chemin des vers dans un fichier jason"
   ]
  },
  {
   "cell_type": "code",
   "execution_count": 10,
   "metadata": {},
   "outputs": [],
   "source": [
    "#def sauvegarder_chemine(dic):\n",
    "\n",
    "with open(\"./chemin_vers.txt\", \"w\") as f:\n",
    "        for i in corpusTotalJson[\"vers\"]:\n",
    "            f.write(i)\n",
    "            f.write(\"\\n\")\n",
    "f.close()"
   ]
  },
  {
   "cell_type": "markdown",
   "metadata": {},
   "source": [
    "## Découverte du corpus de données : échantillon d'un dossier"
   ]
  },
  {
   "cell_type": "code",
   "execution_count": 15,
   "metadata": {},
   "outputs": [],
   "source": [
    "def lire_json_test(chemin_fichier_test):\n",
    "    Nf =  0\n",
    "    sousCorpusVers = {}\n",
    "    type = {\"vers\": [], \"prose\": []}\n",
    "    anneesDic = {}\n",
    "\n",
    "    for fichier in glob.glob(chemin_fichier_test+\"/*.json\"):\n",
    "            with open(fichier, 'r') as f:\n",
    "                f = json.load(f)\n",
    "                forms = f['entête'][\"form\"]\n",
    "                vers = f['texte']\n",
    "\n",
    "                if \"creation\" in  f['entête'].keys() and f['entête'][\"creation\"] != \"00-00-0000\":\n",
    "                     annee = f['entête'][\"creation\"][:4]\n",
    "                else:\n",
    "                    annee = \"inconnu\"\n",
    "\n",
    "                Nf+=1\n",
    "                fichierNom = fichier.split('/')[-2]+\"/\"+fichier.split('/')[-1].split('.')[0]\n",
    "\n",
    "                if annee not in anneesDic:\n",
    "                    anneesDic[annee] = {\"vers\": 0, \"prose\": 0}\n",
    "                \n",
    "                if  forms==\"vers\":   # fichier ne contient que des vers\n",
    "                    anneesDic[annee][\"vers\"]+=1\n",
    "                    type[\"vers\"].append(fichierNom)\n",
    "                    sousCorpusVers[fichierNom] = vers\n",
    "\n",
    "                if 'prose' in forms: # fichier contient des prose (et peut-être des vers)\n",
    "                    anneesDic[annee][\"prose\"]+=1\n",
    "                    type[\"prose\"].append(fichierNom)\n",
    "    \n",
    "                    \n",
    "    return type, Nf, sousCorpusVers, anneesDic"
   ]
  },
  {
   "cell_type": "code",
   "execution_count": 16,
   "metadata": {},
   "outputs": [
    {
     "name": "stdout",
     "output_type": "stream",
     "text": [
      "Nb des Textes json dans le dossier test :  64\n",
      "Types des textes json :  dict_keys(['vers', 'prose'])\n",
      "Nb des Textes json test contiennent les Vers :  20\n",
      "Nb des Textes json test contiennent les Proses :  44\n",
      "{'1650': {'vers': 4, 'prose': 2}, 'inconnu': {'vers': 7, 'prose': 9}, '1649': {'vers': 7, 'prose': 23}, '1651': {'vers': 0, 'prose': 2}, '1648': {'vers': 2, 'prose': 0}, '1652': {'vers': 0, 'prose': 8}}\n"
     ]
    }
   ],
   "source": [
    "Mazarinade_json_path_test = \"Corpus-main/Mazarinades_jsons/1-100\"  \n",
    "corpusTotalJson_test, NfichierTotalJson_test, sous_corpus_test,anneeDic_test= lire_json_test(Mazarinade_json_path_test) \n",
    "print(\"Nb des Textes json dans le dossier test : \", NfichierTotalJson_test)\n",
    "print(\"Types des textes json : \", corpusTotalJson_test.keys())\n",
    "print(\"Nb des Textes json test contiennent les Vers : \",len(corpusTotalJson_test[\"vers\"]))#len(corpusTotalJson[\"vers\"]))\n",
    "print(\"Nb des Textes json test contiennent les Proses : \",len(corpusTotalJson_test[\"prose\"]))\n",
    "print(anneeDic_test)\n"
   ]
  },
  {
   "cell_type": "markdown",
   "metadata": {},
   "source": [
    "### Observation la proportion de documents en vers/prose selon les années (tous les documents)"
   ]
  },
  {
   "cell_type": "code",
   "execution_count": 20,
   "metadata": {},
   "outputs": [
    {
     "name": "stdout",
     "output_type": "stream",
     "text": [
      "{'1649': {'vers': 224, 'prose': 689}, '1652': {'vers': 46, 'prose': 637}, '1651': {'vers': 31, 'prose': 194}, '1650': {'vers': 45, 'prose': 136}, 'inconnu': {'vers': 245, 'prose': 785}, '1648': {'vers': 7, 'prose': 24}, '1654': {'vers': 0, 'prose': 1}, '1656': {'vers': 0, 'prose': 1}}\n"
     ]
    }
   ],
   "source": [
    "def merge_dictionaires(original, update):\n",
    "    for annee, counts in update.items():\n",
    "        if annee not in original:\n",
    "            original[annee] = {\"vers\": 0, \"prose\": 0}\n",
    "        original[annee][\"vers\"]+=(counts.get(\"vers\"))\n",
    "        original[annee][\"prose\"]+=(counts.get(\"prose\"))\n",
    "\n",
    "anneeDic_total = {}\n",
    "\n",
    "for dossier in glob.glob(Mazarinade_path_json+\"/*\"):\n",
    "    _, _, _, anneeDic = lire_json_test(dossier)\n",
    "    merge_dictionaires(anneeDic_total, anneeDic)\n",
    "\n",
    "print(anneeDic_total)\n"
   ]
  },
  {
   "cell_type": "code",
   "execution_count": 21,
   "metadata": {},
   "outputs": [
    {
     "data": {
      "image/png": "[encoded data removed]",
      "text/plain": [
       "<Figure size 800x400 with 1 Axes>"
      ]
     },
     "metadata": {},
     "output_type": "display_data"
    }
   ],
   "source": [
    "years = []\n",
    "proportion_vers = []\n",
    "proportion_prose = []\n",
    "counts_vers = []\n",
    "counts_prose = []\n",
    "\n",
    "\n",
    "for annee, counts in anneeDic_total.items():\n",
    "    total = counts['vers'] + counts['prose']\n",
    "    if total > 0: \n",
    "        years.append(annee)\n",
    "        proportion_vers.append(counts['vers'] / total)\n",
    "        proportion_prose.append(counts['prose'] / total)\n",
    "        counts_vers.append(counts['vers'])\n",
    "        counts_prose.append(counts['prose'])\n",
    "\n",
    "\n",
    "sorted_years_with_inconnu = sorted([year for year in years if year != 'inconnu'], key=lambda x: int(x))\n",
    "if 'inconnu' in years:\n",
    "    sorted_years_with_inconnu.append('inconnu')  \n",
    "\n",
    "sorted_proportion_vers = [proportion_vers[years.index(year)] for year in sorted_years_with_inconnu]\n",
    "sorted_proportion_prose = [proportion_prose[years.index(year)] for year in sorted_years_with_inconnu]\n",
    "sorted_counts_vers = [counts_vers[years.index(year)] for year in sorted_years_with_inconnu]\n",
    "sorted_counts_prose = [counts_prose[years.index(year)] for year in sorted_years_with_inconnu]\n",
    "\n",
    "\n",
    "plt.figure(figsize=(8, 4))\n",
    "bars = plt.bar(sorted_years_with_inconnu, sorted_proportion_vers, label='Vers', color='skyblue')\n",
    "plt.bar(sorted_years_with_inconnu, sorted_proportion_prose, bottom=sorted_proportion_vers, label='Prose', color='lightgreen')\n",
    "\n",
    "\n",
    "for bar, count_vers, count_prose in zip(bars, sorted_counts_vers, sorted_counts_prose):\n",
    "    height = bar.get_height()\n",
    "    if count_vers > 0 and count_prose > 0:\n",
    "        plt.text(bar.get_x() + bar.get_width() / 2.0, height-0.07, f'{count_vers}', ha='center', va='bottom')\n",
    "    plt.text(bar.get_x() + bar.get_width() / 2.0, height+0.01, f'{count_prose}', ha='center', va='bottom')\n",
    "\n",
    "plt.title(\"Proportion de documents en vers/prose selon les années (Mazarinades)\")\n",
    "plt.xlabel('Année')\n",
    "plt.ylabel('Proportion')\n",
    "plt.legend()\n",
    "\n",
    "\n",
    "plt.tight_layout()\n",
    "plt.show()\n"
   ]
  },
  {
   "cell_type": "markdown",
   "metadata": {},
   "source": [
    "## Chemin d'accès au dossier de données à tester"
   ]
  },
  {
   "cell_type": "code",
   "execution_count": 22,
   "metadata": {},
   "outputs": [],
   "source": [
    "json_str = json.dumps(sous_corpus_test, ensure_ascii=False, indent=4)\n",
    "with open('sous_corpus_test.json', 'w', encoding='utf-8') as json_file:\n",
    "    json_file.write(json_str)"
   ]
  }
 ],
 "metadata": {
  "kernelspec": {
   "display_name": "Python 3",
   "language": "python",
   "name": "python3"
  },
  "language_info": {
   "codemirror_mode": {
    "name": "ipython",
    "version": 3
   },
   "file_extension": ".py",
   "mimetype": "text/x-python",
   "name": "python",
   "nbconvert_exporter": "python",
   "pygments_lexer": "ipython3",
   "version": "3.9.6"
  }
 },
 "nbformat": 4,
 "nbformat_minor": 2
}
